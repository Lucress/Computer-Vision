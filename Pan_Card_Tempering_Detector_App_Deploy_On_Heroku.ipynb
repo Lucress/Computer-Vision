{
  "nbformat": 4,
  "nbformat_minor": 0,
  "metadata": {
    "colab": {
      "provenance": [],
      "authorship_tag": "ABX9TyNhA72zl4McJ+oeHqTlkS7/",
      "include_colab_link": true
    },
    "kernelspec": {
      "name": "python3",
      "display_name": "Python 3"
    },
    "language_info": {
      "name": "python"
    }
  },
  "cells": [
    {
      "cell_type": "markdown",
      "metadata": {
        "id": "view-in-github",
        "colab_type": "text"
      },
      "source": [
        "<a href=\"https://colab.research.google.com/github/Lucress/Pan-Card-Tempering-Detector-App--Deploy-On-Heroku/blob/main/Pan_Card_Tempering_Detector_App_Deploy_On_Heroku.ipynb\" target=\"_parent\"><img src=\"https://colab.research.google.com/assets/colab-badge.svg\" alt=\"Open In Colab\"/></a>"
      ]
    },
    {
      "cell_type": "code",
      "execution_count": null,
      "metadata": {
        "id": "tKdB72x4Du09"
      },
      "outputs": [],
      "source": []
    }
  ]
}